{
 "cells": [
  {
   "cell_type": "markdown",
   "metadata": {},
   "source": [
    "## Roboticia-quattro : Tutorial 1 - the leg primitive"
   ]
  },
  {
   "cell_type": "markdown",
   "metadata": {},
   "source": [
    "### How to move the legs using Pypot Primitives"
   ]
  },
  {
   "cell_type": "markdown",
   "metadata": {},
   "source": [
    "Instanciate the robot :"
   ]
  },
  {
   "cell_type": "code",
   "execution_count": null,
   "metadata": {
    "collapsed": false
   },
   "outputs": [],
   "source": [
    "from roboticia_quattro import RoboticiaQuattro"
   ]
  },
  {
   "cell_type": "markdown",
   "metadata": {},
   "source": [
    "If you want to open your robot in the Vrep simulator (http://www.coppeliarobotics.com/) :"
   ]
  },
  {
   "cell_type": "code",
   "execution_count": 2,
   "metadata": {
    "collapsed": false
   },
   "outputs": [
    {
     "ename": "IOError",
     "evalue": "No such file or directory: 'roboticia_quattro.ttt'",
     "output_type": "error",
     "traceback": [
      "\u001b[0;31m---------------------------------------------------------------------------\u001b[0m",
      "\u001b[0;31mIOError\u001b[0m                                   Traceback (most recent call last)",
      "\u001b[0;32m<ipython-input-2-f31001c0e4dd>\u001b[0m in \u001b[0;36m<module>\u001b[0;34m()\u001b[0m\n\u001b[0;32m----> 1\u001b[0;31m \u001b[0mrobot\u001b[0m \u001b[1;33m=\u001b[0m \u001b[0mRoboticiaQuattro\u001b[0m\u001b[1;33m(\u001b[0m\u001b[0msimulator\u001b[0m\u001b[1;33m=\u001b[0m\u001b[1;34m'vrep'\u001b[0m\u001b[1;33m)\u001b[0m\u001b[1;33m\u001b[0m\u001b[0m\n\u001b[0m",
      "\u001b[0;32mc:\\python27\\lib\\site-packages\\pypot\\creatures\\abstractcreature.pyc\u001b[0m in \u001b[0;36m__new__\u001b[0;34m(cls, base_path, config, simulator, scene, host, port, id, use_snap, snap_host, snap_port, snap_quiet, use_http, http_host, http_port, http_quiet, use_remote, remote_host, remote_port, use_ws, ws_host, ws_port, start_background_services, sync, **extra)\u001b[0m\n\u001b[1;32m     97\u001b[0m \u001b[1;33m\u001b[0m\u001b[0m\n\u001b[1;32m     98\u001b[0m                 \u001b[1;32mtry\u001b[0m\u001b[1;33m:\u001b[0m\u001b[1;33m\u001b[0m\u001b[0m\n\u001b[0;32m---> 99\u001b[0;31m                     \u001b[0mpoppy_creature\u001b[0m \u001b[1;33m=\u001b[0m \u001b[0mfrom_vrep\u001b[0m\u001b[1;33m(\u001b[0m\u001b[0mconfig\u001b[0m\u001b[1;33m,\u001b[0m \u001b[0mhost\u001b[0m\u001b[1;33m,\u001b[0m \u001b[0mport\u001b[0m\u001b[1;33m,\u001b[0m \u001b[0mscene\u001b[0m \u001b[1;32mif\u001b[0m \u001b[0mscene\u001b[0m \u001b[1;33m!=\u001b[0m \u001b[1;34m\"keep-existing\"\u001b[0m \u001b[1;32melse\u001b[0m \u001b[0mNone\u001b[0m\u001b[1;33m)\u001b[0m\u001b[1;33m\u001b[0m\u001b[0m\n\u001b[0m\u001b[1;32m    100\u001b[0m                 \u001b[1;32mexcept\u001b[0m \u001b[0mVrepConnectionError\u001b[0m\u001b[1;33m:\u001b[0m\u001b[1;33m\u001b[0m\u001b[0m\n\u001b[1;32m    101\u001b[0m                     \u001b[1;32mraise\u001b[0m \u001b[0mIOError\u001b[0m\u001b[1;33m(\u001b[0m\u001b[1;34m'Connection to V-REP failed!'\u001b[0m\u001b[1;33m)\u001b[0m\u001b[1;33m\u001b[0m\u001b[0m\n",
      "\u001b[0;32mc:\\python27\\lib\\site-packages\\pypot\\vrep\\__init__.pyc\u001b[0m in \u001b[0;36mfrom_vrep\u001b[0;34m(config, vrep_host, vrep_port, scene, tracked_objects, tracked_collisions)\u001b[0m\n\u001b[1;32m     94\u001b[0m               for name in config['motors'].keys()]\n\u001b[1;32m     95\u001b[0m \u001b[1;33m\u001b[0m\u001b[0m\n\u001b[0;32m---> 96\u001b[0;31m     \u001b[0mvc\u001b[0m \u001b[1;33m=\u001b[0m \u001b[0mVrepController\u001b[0m\u001b[1;33m(\u001b[0m\u001b[0mvrep_io\u001b[0m\u001b[1;33m,\u001b[0m \u001b[0mscene\u001b[0m\u001b[1;33m,\u001b[0m \u001b[0mmotors\u001b[0m\u001b[1;33m)\u001b[0m\u001b[1;33m\u001b[0m\u001b[0m\n\u001b[0m\u001b[1;32m     97\u001b[0m     \u001b[0mvc\u001b[0m\u001b[1;33m.\u001b[0m\u001b[0m_init_vrep_streaming\u001b[0m\u001b[1;33m(\u001b[0m\u001b[1;33m)\u001b[0m\u001b[1;33m\u001b[0m\u001b[0m\n\u001b[1;32m     98\u001b[0m \u001b[1;33m\u001b[0m\u001b[0m\n",
      "\u001b[0;32mc:\\python27\\lib\\site-packages\\pypot\\vrep\\controller.pyc\u001b[0m in \u001b[0;36m__init__\u001b[0;34m(self, vrep_io, scene, motors, sync_freq)\u001b[0m\n\u001b[1;32m     24\u001b[0m \u001b[1;33m\u001b[0m\u001b[0m\n\u001b[1;32m     25\u001b[0m         \u001b[1;32mif\u001b[0m \u001b[0mscene\u001b[0m \u001b[1;32mis\u001b[0m \u001b[1;32mnot\u001b[0m \u001b[0mNone\u001b[0m\u001b[1;33m:\u001b[0m\u001b[1;33m\u001b[0m\u001b[0m\n\u001b[0;32m---> 26\u001b[0;31m             \u001b[0mvrep_io\u001b[0m\u001b[1;33m.\u001b[0m\u001b[0mload_scene\u001b[0m\u001b[1;33m(\u001b[0m\u001b[0mscene\u001b[0m\u001b[1;33m,\u001b[0m \u001b[0mstart\u001b[0m\u001b[1;33m=\u001b[0m\u001b[0mTrue\u001b[0m\u001b[1;33m)\u001b[0m\u001b[1;33m\u001b[0m\u001b[0m\n\u001b[0m\u001b[1;32m     27\u001b[0m \u001b[1;33m\u001b[0m\u001b[0m\n\u001b[1;32m     28\u001b[0m     \u001b[1;32mdef\u001b[0m \u001b[0msetup\u001b[0m\u001b[1;33m(\u001b[0m\u001b[0mself\u001b[0m\u001b[1;33m)\u001b[0m\u001b[1;33m:\u001b[0m\u001b[1;33m\u001b[0m\u001b[0m\n",
      "\u001b[0;32mc:\\python27\\lib\\site-packages\\pypot\\vrep\\io.pyc\u001b[0m in \u001b[0;36mload_scene\u001b[0;34m(self, scene_path, start)\u001b[0m\n\u001b[1;32m    101\u001b[0m \u001b[1;33m\u001b[0m\u001b[0m\n\u001b[1;32m    102\u001b[0m         \u001b[1;32mif\u001b[0m \u001b[1;32mnot\u001b[0m \u001b[0mos\u001b[0m\u001b[1;33m.\u001b[0m\u001b[0mpath\u001b[0m\u001b[1;33m.\u001b[0m\u001b[0mexists\u001b[0m\u001b[1;33m(\u001b[0m\u001b[0mscene_path\u001b[0m\u001b[1;33m)\u001b[0m\u001b[1;33m:\u001b[0m\u001b[1;33m\u001b[0m\u001b[0m\n\u001b[0;32m--> 103\u001b[0;31m             \u001b[1;32mraise\u001b[0m \u001b[0mIOError\u001b[0m\u001b[1;33m(\u001b[0m\u001b[1;34m\"No such file or directory: '{}'\"\u001b[0m\u001b[1;33m.\u001b[0m\u001b[0mformat\u001b[0m\u001b[1;33m(\u001b[0m\u001b[0mscene_path\u001b[0m\u001b[1;33m)\u001b[0m\u001b[1;33m)\u001b[0m\u001b[1;33m\u001b[0m\u001b[0m\n\u001b[0m\u001b[1;32m    104\u001b[0m \u001b[1;33m\u001b[0m\u001b[0m\n\u001b[1;32m    105\u001b[0m         \u001b[0mself\u001b[0m\u001b[1;33m.\u001b[0m\u001b[0mcall_remote_api\u001b[0m\u001b[1;33m(\u001b[0m\u001b[1;34m'simxLoadScene'\u001b[0m\u001b[1;33m,\u001b[0m \u001b[0mscene_path\u001b[0m\u001b[1;33m,\u001b[0m \u001b[0mTrue\u001b[0m\u001b[1;33m)\u001b[0m\u001b[1;33m\u001b[0m\u001b[0m\n",
      "\u001b[0;31mIOError\u001b[0m: No such file or directory: 'roboticia_quattro.ttt'"
     ]
    }
   ],
   "source": [
    "robot = RoboticiaQuattro(simulator='vrep')"
   ]
  },
  {
   "cell_type": "markdown",
   "metadata": {},
   "source": [
    "If you are lucky enough to have a real robot (http://www.roboticia.com) :"
   ]
  },
  {
   "cell_type": "code",
   "execution_count": null,
   "metadata": {
    "collapsed": false
   },
   "outputs": [],
   "source": [
    "robot = RoboticiaQuattro()"
   ]
  },
  {
   "cell_type": "markdown",
   "metadata": {},
   "source": [
    "Your robot have motors and sensors :"
   ]
  },
  {
   "cell_type": "code",
   "execution_count": 121,
   "metadata": {
    "collapsed": false
   },
   "outputs": [
    {
     "data": {
      "text/plain": [
       "[<DxlMotor name=m11 id=11 pos=0.0>,\n",
       " <DxlMotor name=m12 id=12 pos=-20.0>,\n",
       " <DxlMotor name=m13 id=13 pos=20.0>,\n",
       " <DxlMotor name=m21 id=21 pos=-0.0>,\n",
       " <DxlMotor name=m22 id=22 pos=-20.0>,\n",
       " <DxlMotor name=m23 id=23 pos=20.0>,\n",
       " <DxlMotor name=m31 id=31 pos=0.0>,\n",
       " <DxlMotor name=m32 id=32 pos=20.0>,\n",
       " <DxlMotor name=m33 id=33 pos=-20.0>,\n",
       " <DxlMotor name=m41 id=41 pos=0.0>,\n",
       " <DxlMotor name=m42 id=42 pos=20.0>,\n",
       " <DxlMotor name=m43 id=43 pos=-20.0>]"
      ]
     },
     "execution_count": 121,
     "metadata": {},
     "output_type": "execute_result"
    }
   ],
   "source": [
    "robot.motors"
   ]
  },
  {
   "cell_type": "code",
   "execution_count": 126,
   "metadata": {
    "collapsed": false
   },
   "outputs": [
    {
     "data": {
      "text/plain": [
       "[<ForceSensor name=f1 force = 40.6818628311>,\n",
       " <ForceSensor name=f2 force = 15.3728663921>,\n",
       " <ForceSensor name=f3 force = 20.0486108661>,\n",
       " <ForceSensor name=f4 force = 37.7162396908>]"
      ]
     },
     "execution_count": 126,
     "metadata": {},
     "output_type": "execute_result"
    }
   ],
   "source": [
    "robot.sensors"
   ]
  },
  {
   "cell_type": "markdown",
   "metadata": {},
   "source": [
    "Obviously you can access the motors and change angles, but if you do so without any control, pretty sure your robot will fall !"
   ]
  },
  {
   "cell_type": "code",
   "execution_count": 133,
   "metadata": {
    "collapsed": true
   },
   "outputs": [],
   "source": [
    "robot.m12.goto_position(-80,2)"
   ]
  },
  {
   "cell_type": "markdown",
   "metadata": {},
   "source": [
    "In a vrep simulated environnement you can restart the simulation :"
   ]
  },
  {
   "cell_type": "code",
   "execution_count": 134,
   "metadata": {
    "collapsed": false
   },
   "outputs": [],
   "source": [
    "robot.reset_simulation()"
   ]
  },
  {
   "cell_type": "markdown",
   "metadata": {
    "collapsed": true
   },
   "source": [
    "It is why, you need a model to control the legs. For the inverse kinematic model of the leg, we are using the cosinus law. Each leg is like a triangle, and thanks to the cosinus law you can resolve the triangle : https://en.wikipedia.org/wiki/Law_of_cosines"
   ]
  },
  {
   "cell_type": "code",
   "execution_count": 135,
   "metadata": {
    "collapsed": true
   },
   "outputs": [],
   "source": [
    "import math as mt\n",
    "import time"
   ]
  },
  {
   "cell_type": "code",
   "execution_count": 136,
   "metadata": {
    "collapsed": false
   },
   "outputs": [],
   "source": [
    "def AK_side(side_a,side_b,side_c):\n",
    "    \"\"\"\n",
    "    Take the 3 side of a triangle and return the angles\n",
    "    \"\"\"\n",
    "    alpha = mt.acos((side_b**2 + side_c**2 - side_a**2)/(2*side_b*side_c))\n",
    "    beta = mt.acos((side_a**2 + side_c**2 - side_b**2)/(2*side_a*side_c))\n",
    "    gamma = mt.pi - alpha - beta\n",
    "    return (alpha,beta,gamma)\n",
    "\n",
    "def AK_angle(side_a,side_b,gamma):\n",
    "    \"\"\"\n",
    "    Take 2 sides and 1 angle of a triangle and return the missing angles and sides\n",
    "    \"\"\"\n",
    "    side_c = mt.sqrt (side_a**2 + side_b**2 - 2*side_a*side_b*mt.cos(gamma))\n",
    "    alpha = mt.acos((side_b**2 + side_c**2 - side_a**2)/(2*side_b*side_c))\n",
    "    beta= mt.pi - alpha - gamma\n",
    "    return (side_c,alpha,beta)"
   ]
  },
  {
   "cell_type": "markdown",
   "metadata": {
    "collapsed": true
   },
   "source": [
    "The Leg primitive will now make the link between 4 attributes of the leg (h, d, b, f) and the right angles for the 3 motors. The loop is updated at a given frequency. In our example, we use an update frequncy of 50 Hz."
   ]
  },
  {
   "cell_type": "code",
   "execution_count": 137,
   "metadata": {
    "collapsed": true
   },
   "outputs": [],
   "source": [
    "from pypot.primitive import LoopPrimitive"
   ]
  },
  {
   "cell_type": "code",
   "execution_count": 138,
   "metadata": {
    "collapsed": false
   },
   "outputs": [],
   "source": [
    "class Leg(LoopPrimitive):\n",
    "    def __init__(self,robot,leg,refresh_freq=50):\n",
    "        self.robot = robot\n",
    "        LoopPrimitive.__init__(self, robot,refresh_freq)\n",
    "        # you should never access directly to the motors in a primitive, because this is the goal of the Primitives manager \n",
    "        # to manage this acces for all the primitives : https://poppy-project.github.io/pypot/primitive.html\n",
    "        fake_motors = getattr(self.robot, leg)\n",
    "        self.knee = fake_motors[2]\n",
    "        self.hip = fake_motors[1]\n",
    "        self.hip_lateral = fake_motors[0]\n",
    "        self.motors = fake_motors\n",
    "        \n",
    "        # size of segment's leg            \n",
    "        self.shin = 63\n",
    "        self.thigh = 55\n",
    "        self.pelvis = 38\n",
    "    \n",
    "    @property      \n",
    "    def get_pos(self):\n",
    "        (side_c,alpha,beta) = AK_angle(self.thigh,self.shin,mt.pi-abs(mt.radians(self.knee.present_position)))\n",
    "        # what knee flexion\n",
    "        flex = mt.copysign(1,self.knee.present_position)\n",
    "        # calcul de l'angle beta_2 entre side_c et la veticale\n",
    "        beta_2 = mt.radians(self.hip.present_position)+beta*flex\n",
    "        theta = mt.radians(self.hip_lateral.present_position)\n",
    "        \n",
    "        high_leg = mt.cos(beta_2)*side_c+self.pelvis\n",
    "        \n",
    "        high = mt.cos(theta)*high_leg\n",
    "        distance = mt.sin(beta_2)*side_c\n",
    "        balance = mt.sin(theta)*high_leg\n",
    "        \n",
    "        return (high,distance,flex,balance)\n",
    "      \n",
    "    \n",
    "    def set_pos(self,h,d,b):\n",
    "        high_leg = mt.sqrt(h**2+b**2)\n",
    "        side_c = mt.sqrt((high_leg-self.pelvis)**2+d**2)\n",
    "        beta_2 = mt.asin(d/side_c)\n",
    "        (alpha,beta,gamma) = AK_side(self.thigh,self.shin,side_c)\n",
    "        \n",
    "        angle_hip = mt.degrees(beta_2 - beta*self.f)\n",
    "        angle_knee = self.f*mt.degrees(mt.pi - gamma)\n",
    "        angle_hip_lateral = mt.degrees(mt.asin(b/high_leg))\n",
    "            \n",
    "        return(angle_hip_lateral, angle_hip, angle_knee)\n",
    "        \n",
    "    def h_limit(self,d):\n",
    "        pass\n",
    "        \n",
    "    def d_limit(self,h):\n",
    "        pass\n",
    "        \n",
    "    def setup(self):\n",
    "        (self.h,self.d,self.f,self.b) = self.get_pos\n",
    "        \n",
    "        \n",
    "    def update(self):\n",
    "        (angle_hip_lateral, angle_hip, angle_knee) = self.set_pos(self.h,self.d,self.b)\n",
    "        self.hip.goal_position = angle_hip\n",
    "        self.knee.goal_position = angle_knee\n",
    "        self.hip_lateral.goal_position = angle_hip_lateral\n",
    "        \n",
    "    \n",
    "    def move(self,speed,cycle,*args):\n",
    "        if cycle == 'go':\n",
    "            if len(args)>0 and self.d+speed > args[0] : #multiplier par le signe de la vitesse pour gérer les vitesses négatives\n",
    "                self.d = args[0]\n",
    "                return True\n",
    "            else :\n",
    "                self.d += speed\n",
    "                return False\n",
    "            \n",
    "                     \n",
    "        if cycle == 'back':\n",
    "            if self.h-speed > args[0] and self.d-speed > args[1] :\n",
    "                self.d -= speed\n",
    "                self.h -= speed\n",
    "                return False\n",
    "            \n",
    "            if self.d-speed > args[1] :\n",
    "                self.h = args[0]\n",
    "                self.d -= speed\n",
    "                return False\n",
    "            \n",
    "            if self.h+speed < args[2] : \n",
    "                self.d = args[1]\n",
    "                self.h += speed\n",
    "                return False\n",
    "            else :\n",
    "                self.h = args[2]\n",
    "                return True\n",
    "            \n",
    "                    \n",
    "        if cycle == 'balance':\n",
    "            if len(args)>0 and mt.copysign(1,speed)*(self.b+speed) > mt.copysign(1,speed)*args[0] : #multiplier par le signe de la vitesse pour gérer les vitesses négatives\n",
    "                self.b = args[0]\n",
    "                return True\n",
    "            else :\n",
    "                self.b += speed\n",
    "                return False\n",
    "            \n",
    "        if cycle=='release':\n",
    "            if self.h-speed < limit : #multiplier par le signe de la vitesse pour gérer les vitesses négatives\n",
    "                self.h = limit\n",
    "                return True\n",
    "            else :\n",
    "                self.h -= speed\n",
    "                return False\n",
    "            \n",
    "        "
   ]
  },
  {
   "cell_type": "markdown",
   "metadata": {},
   "source": [
    "Attach one primitive for each leg to the robot :"
   ]
  },
  {
   "cell_type": "code",
   "execution_count": 139,
   "metadata": {
    "collapsed": false
   },
   "outputs": [],
   "source": [
    "robot.attach_primitive(Leg(robot,'leg1'), 'leg_1')\n",
    "robot.attach_primitive(Leg(robot,'leg2'), 'leg_2')\n",
    "robot.attach_primitive(Leg(robot,'leg3'), 'leg_3')\n",
    "robot.attach_primitive(Leg(robot,'leg4'), 'leg_4')"
   ]
  },
  {
   "cell_type": "markdown",
   "metadata": {},
   "source": [
    "Now start the primitives to start the control of the legs :"
   ]
  },
  {
   "cell_type": "code",
   "execution_count": 140,
   "metadata": {
    "collapsed": false
   },
   "outputs": [],
   "source": [
    "robot.leg_1.start()\n",
    "robot.leg_2.start()\n",
    "robot.leg_3.start()\n",
    "robot.leg_4.start()"
   ]
  },
  {
   "cell_type": "markdown",
   "metadata": {
    "collapsed": true
   },
   "source": [
    "You are now able to choose for each leg (in millimeters) :\n",
    "   * h : the high of the leg\n",
    "   * d : the distance between horizontal of the hip and the foot (front or rear)\n",
    "   * b : the balance on right or left\n",
    "   * f : the knee flexion (1 or -1) "
   ]
  },
  {
   "cell_type": "code",
   "execution_count": 32,
   "metadata": {
    "collapsed": true
   },
   "outputs": [],
   "source": [
    "# move aside the legs\n",
    "robot.leg_1.b = -20\n",
    "robot.leg_3.b = -20\n",
    "robot.leg_2.b = 20\n",
    "robot.leg_4.b = 20"
   ]
  },
  {
   "cell_type": "code",
   "execution_count": 143,
   "metadata": {
    "collapsed": false
   },
   "outputs": [],
   "source": [
    "# get down\n",
    "robot.leg_1.h = 100\n",
    "robot.leg_3.h = 100\n",
    "robot.leg_2.h = 100\n",
    "robot.leg_4.h = 100"
   ]
  },
  {
   "cell_type": "code",
   "execution_count": 144,
   "metadata": {
    "collapsed": true
   },
   "outputs": [],
   "source": [
    "# get up\n",
    "robot.leg_1.h = 150\n",
    "robot.leg_3.h = 150\n",
    "robot.leg_2.h = 150\n",
    "robot.leg_4.h = 150"
   ]
  },
  {
   "cell_type": "markdown",
   "metadata": {},
   "source": [
    "whant to try to jump :"
   ]
  },
  {
   "cell_type": "code",
   "execution_count": null,
   "metadata": {
    "collapsed": false
   },
   "outputs": [],
   "source": [
    "for i in range(10):\n",
    "    robot.leg_1.h = 100\n",
    "    robot.leg_3.h = 100\n",
    "    robot.leg_2.h = 100\n",
    "    robot.leg_4.h = 100\n",
    "    time.sleep(0.5)\n",
    "    robot.leg_1.h = 150\n",
    "    robot.leg_3.h = 150\n",
    "    robot.leg_2.h = 150\n",
    "    robot.leg_4.h = 150\n",
    "    time.sleep(0.5)\n",
    "    "
   ]
  },
  {
   "cell_type": "code",
   "execution_count": 117,
   "metadata": {
    "collapsed": true
   },
   "outputs": [],
   "source": [
    "robot.leg_1.h = 120\n",
    "robot.leg_3.h = 120\n",
    "robot.leg_2.h = 120\n",
    "robot.leg_4.h = 120\n",
    "#go ahead\n",
    "robot.leg_1.d = -50\n",
    "robot.leg_3.d = -50\n",
    "robot.leg_2.d = -50\n",
    "robot.leg_4.d = -50\n",
    "time.sleep(0.5)\n",
    "# jump\n",
    "robot.leg_1.d = 50\n",
    "robot.leg_3.d = 50\n",
    "robot.leg_2.d = 50\n",
    "robot.leg_4.d = 50"
   ]
  },
  {
   "cell_type": "code",
   "execution_count": null,
   "metadata": {
    "collapsed": true
   },
   "outputs": [],
   "source": [
    "robot.leg_1.stop()\n",
    "robot.leg_2.stop()\n",
    "robot.leg_3.stop()\n",
    "robot.leg_4.stop()"
   ]
  },
  {
   "cell_type": "code",
   "execution_count": 118,
   "metadata": {
    "collapsed": true
   },
   "outputs": [],
   "source": [
    "robot.close()"
   ]
  },
  {
   "cell_type": "markdown",
   "metadata": {},
   "source": [
    "In case of trouble, for example if your robot doesnt' answer to command, you can rstart the python kernel :\n",
    "Menu > Kernel > Restart"
   ]
  }
 ],
 "metadata": {
  "kernelspec": {
   "display_name": "Python 2",
   "language": "python",
   "name": "python2"
  },
  "language_info": {
   "codemirror_mode": {
    "name": "ipython",
    "version": 2
   },
   "file_extension": ".py",
   "mimetype": "text/x-python",
   "name": "python",
   "nbconvert_exporter": "python",
   "pygments_lexer": "ipython2",
   "version": "2.7.9"
  }
 },
 "nbformat": 4,
 "nbformat_minor": 0
}
