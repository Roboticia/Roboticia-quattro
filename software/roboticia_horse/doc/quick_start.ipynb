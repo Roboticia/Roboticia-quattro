{
 "cells": [
  {
   "cell_type": "markdown",
   "metadata": {},
   "source": [
    "## Vérifier que le robot a bien été installé par un : $ pip install roboticia-horse"
   ]
  },
  {
   "cell_type": "code",
   "execution_count": 1,
   "metadata": {
    "collapsed": true
   },
   "outputs": [],
   "source": [
    "import pip"
   ]
  },
  {
   "cell_type": "code",
   "execution_count": 4,
   "metadata": {
    "collapsed": false
   },
   "outputs": [
    {
     "name": "stdout",
     "output_type": "stream",
     "text": [
      "roboticia-horse est bien installé\n"
     ]
    }
   ],
   "source": [
    "if 'roboticia-horse' in str(pip.get_installed_distributions()):\n",
    "    print('roboticia-horse est bien installé')\n",
    "else:\n",
    "    print(\"Attention le package roboticia-horse n'est pas installé. Exécutez pip install roboticia-horse\")\n",
    "    "
   ]
  },
  {
   "cell_type": "markdown",
   "metadata": {},
   "source": [
    "## Importer le package Roboticia"
   ]
  },
  {
   "cell_type": "code",
   "execution_count": 6,
   "metadata": {
    "collapsed": true
   },
   "outputs": [],
   "source": [
    "from roboticia_horse import RoboticiaHorse"
   ]
  },
  {
   "cell_type": "code",
   "execution_count": 21,
   "metadata": {
    "collapsed": false
   },
   "outputs": [
    {
     "name": "stderr",
     "output_type": "stream",
     "text": [
      "WARNING:pypot.robot.config:Return delay time of m11 changed from 500 to 0\n",
      "WARNING:pypot.robot.config:Return delay time of m12 changed from 500 to 0\n",
      "WARNING:pypot.robot.config:Return delay time of m13 changed from 500 to 0\n",
      "WARNING:pypot.robot.config:Return delay time of m21 changed from 500 to 0\n",
      "WARNING:pypot.robot.config:Return delay time of m22 changed from 500 to 0\n",
      "WARNING:pypot.robot.config:Return delay time of m23 changed from 500 to 0\n",
      "WARNING:pypot.robot.config:Return delay time of m31 changed from 500 to 0\n",
      "WARNING:pypot.robot.config:Return delay time of m32 changed from 500 to 0\n",
      "WARNING:pypot.robot.config:Return delay time of m33 changed from 500 to 0\n",
      "WARNING:pypot.robot.config:Return delay time of m41 changed from 500 to 0\n",
      "WARNING:pypot.robot.config:Return delay time of m42 changed from 500 to 0\n",
      "WARNING:pypot.robot.config:Return delay time of m43 changed from 500 to 0\n",
      "WARNING:pypot.dynamixel.controller:Timeout when getting pos/speed/load from [11, 12, 13, 21, 22, 23, 31, 32, 33, 41, 42, 43]\n",
      "WARNING:pypot.dynamixel.controller:Timeout when getting pos/speed/load from [11, 12, 13, 21, 22, 23, 31, 32, 33, 41, 42, 43]\n",
      "WARNING:pypot.dynamixel.controller:Timeout when getting pos/speed/load from [11, 12, 13, 21, 22, 23, 31, 32, 33, 41, 42, 43]\n",
      "WARNING:pypot.dynamixel.controller:Timeout when getting pos/speed/load from [11, 12, 13, 21, 22, 23, 31, 32, 33, 41, 42, 43]\n",
      "WARNING:pypot.dynamixel.controller:Timeout when getting pos/speed/load from [11, 12, 13, 21, 22, 23, 31, 32, 33, 41, 42, 43]\n",
      "WARNING:pypot.dynamixel.controller:Timeout when getting pos/speed/load from [11, 12, 13, 21, 22, 23, 31, 32, 33, 41, 42, 43]\n",
      "WARNING:pypot.dynamixel.controller:Timeout when getting pos/speed/load from [11, 12, 13, 21, 22, 23, 31, 32, 33, 41, 42, 43]\n",
      "WARNING:pypot.dynamixel.controller:Timeout when getting pos/speed/load from [11, 12, 13, 21, 22, 23, 31, 32, 33, 41, 42, 43]\n",
      "WARNING:pypot.dynamixel.controller:Timeout when getting pos/speed/load from [11, 12, 13, 21, 22, 23, 31, 32, 33, 41, 42, 43]\n",
      "WARNING:pypot.dynamixel.controller:Timeout when getting pos/speed/load from [11, 12, 13, 21, 22, 23, 31, 32, 33, 41, 42, 43]\n",
      "WARNING:pypot.dynamixel.controller:Timeout when getting pos/speed/load from [11, 12, 13, 21, 22, 23, 31, 32, 33, 41, 42, 43]\n",
      "WARNING:pypot.dynamixel.controller:Timeout when getting pos/speed/load from [11, 12, 13, 21, 22, 23, 31, 32, 33, 41, 42, 43]\n",
      "WARNING:pypot.dynamixel.controller:Timeout when getting pos/speed/load from [11, 12, 13, 21, 22, 23, 31, 32, 33, 41, 42, 43]\n",
      "WARNING:pypot.dynamixel.controller:Timeout when getting pos/speed/load from [11, 12, 13, 21, 22, 23, 31, 32, 33, 41, 42, 43]\n"
     ]
    }
   ],
   "source": [
    "robot = RoboticiaHorse()"
   ]
  },
  {
   "cell_type": "code",
   "execution_count": 19,
   "metadata": {
    "collapsed": false
   },
   "outputs": [
    {
     "data": {
      "text/plain": [
       "<Robot motors=[<DxlMotor name=m11 id=11 pos=-1.03>, <DxlMotor name=m12 id=12 pos=60.26>, <DxlMotor name=m13 id=13 pos=-143.55>, <DxlMotor name=m21 id=21 pos=-0.73>, <DxlMotor name=m22 id=22 pos=60.85>, <DxlMotor name=m23 id=23 pos=-143.55>, <DxlMotor name=m31 id=31 pos=-0.73>, <DxlMotor name=m32 id=32 pos=60.26>, <DxlMotor name=m33 id=33 pos=-144.72>, <DxlMotor name=m41 id=41 pos=0.44>, <DxlMotor name=m42 id=42 pos=63.2>, <DxlMotor name=m43 id=43 pos=-144.43>]>"
      ]
     },
     "execution_count": 19,
     "metadata": {},
     "output_type": "execute_result"
    },
    {
     "name": "stderr",
     "output_type": "stream",
     "text": [
      "WARNING:pypot.dynamixel.controller:Timeout when getting pos/speed/load from [11, 12, 13, 21, 22, 23, 31, 32, 33, 41, 42, 43]\n",
      "WARNING:pypot.dynamixel.controller:Timeout when getting pos/speed/load from [11, 12, 13, 21, 22, 23, 31, 32, 33, 41, 42, 43]\n",
      "WARNING:pypot.dynamixel.controller:Timeout when getting pos/speed/load from [11, 12, 13, 21, 22, 23, 31, 32, 33, 41, 42, 43]\n",
      "WARNING:pypot.dynamixel.controller:Timeout when getting pos/speed/load from [11, 12, 13, 21, 22, 23, 31, 32, 33, 41, 42, 43]\n",
      "WARNING:pypot.dynamixel.controller:Timeout when getting pos/speed/load from [11, 12, 13, 21, 22, 23, 31, 32, 33, 41, 42, 43]\n",
      "WARNING:pypot.dynamixel.controller:Timeout when getting pos/speed/load from [11, 12, 13, 21, 22, 23, 31, 32, 33, 41, 42, 43]\n",
      "WARNING:pypot.dynamixel.controller:Timeout when getting pos/speed/load from [11, 12, 13, 21, 22, 23, 31, 32, 33, 41, 42, 43]\n",
      "WARNING:pypot.dynamixel.controller:Timeout when getting pos/speed/load from [11, 12, 13, 21, 22, 23, 31, 32, 33, 41, 42, 43]\n",
      "WARNING:pypot.dynamixel.controller:Timeout when getting pos/speed/load from [11, 12, 13, 21, 22, 23, 31, 32, 33, 41, 42, 43]\n",
      "WARNING:pypot.dynamixel.controller:Timeout when getting pos/speed/load from [11, 12, 13, 21, 22, 23, 31, 32, 33, 41, 42, 43]\n",
      "WARNING:pypot.dynamixel.controller:Timeout when getting pos/speed/load from [11, 12, 13, 21, 22, 23, 31, 32, 33, 41, 42, 43]\n",
      "WARNING:pypot.dynamixel.controller:Timeout when getting pos/speed/load from [11, 12, 13, 21, 22, 23, 31, 32, 33, 41, 42, 43]\n",
      "WARNING:pypot.dynamixel.controller:Timeout when getting pos/speed/load from [11, 12, 13, 21, 22, 23, 31, 32, 33, 41, 42, 43]\n"
     ]
    }
   ],
   "source": [
    "robot"
   ]
  },
  {
   "cell_type": "code",
   "execution_count": 22,
   "metadata": {
    "collapsed": false
   },
   "outputs": [],
   "source": [
    "robot.close()"
   ]
  },
  {
   "cell_type": "code",
   "execution_count": null,
   "metadata": {
    "collapsed": true
   },
   "outputs": [],
   "source": []
  }
 ],
 "metadata": {
  "kernelspec": {
   "display_name": "Python 2",
   "language": "python",
   "name": "python2"
  },
  "language_info": {
   "codemirror_mode": {
    "name": "ipython",
    "version": 2
   },
   "file_extension": ".py",
   "mimetype": "text/x-python",
   "name": "python",
   "nbconvert_exporter": "python",
   "pygments_lexer": "ipython2",
   "version": "2.7.9"
  }
 },
 "nbformat": 4,
 "nbformat_minor": 0
}
